{
 "cells": [
  {
   "cell_type": "code",
   "execution_count": 1,
   "id": "69f11f2b-2491-43d6-8d82-049a8be9f9cf",
   "metadata": {},
   "outputs": [
    {
     "name": "stdout",
     "output_type": "stream",
     "text": [
      "✅ Model trained and saved to policy_vectorizer.pkl and policy_tfidf_matrix.pkl\n",
      "Requirement already satisfied: numpy in c:\\users\\radha\\appdata\\local\\programs\\python\\python313\\lib\\site-packages (2.1.3)\n",
      "Requirement already satisfied: pandas in c:\\users\\radha\\appdata\\local\\programs\\python\\python313\\lib\\site-packages (2.2.3)\n"
     ]
    },
    {
     "name": "stderr",
     "output_type": "stream",
     "text": [
      "ERROR: Could not find a version that satisfies the requirement sk-learn (from versions: none)\n",
      "\n",
      "[notice] A new release of pip is available: 25.0.1 -> 25.2\n",
      "[notice] To update, run: python.exe -m pip install --upgrade pip\n",
      "ERROR: No matching distribution found for sk-learn\n"
     ]
    }
   ],
   "source": [
    "import joblib\n",
    "\n",
    "import pandas as pd\n",
    "\n",
    "from sklearn.feature_extraction.text import TfidfVectorizer\n",
    " \n",
    "MODEL_PATH = \"policy_vectorizer.pkl\"\n",
    "\n",
    "MATRIX_PATH = \"policy_tfidf_matrix.pkl\"\n",
    " \n",
    "# Load train and full dataset\n",
    "\n",
    "train_df = pd.read_csv(\"train_policies.csv\") #  read the dataset \n",
    "\n",
    "full_df = pd.read_csv(\"education_policies.csv\")\n",
    " \n",
    "# --- FIX: Preprocess full_df so it has \"text_for_nlp\" ---\n",
    "\n",
    "def preprocess(df):\n",
    "\n",
    "    df = df.copy()\n",
    "\n",
    "    df[\"text_for_nlp\"] = (df[\"title\"].astype(str) + \". \" +\n",
    "\n",
    "                          df[\"full_text\"].astype(str) + \". Stakeholders: \" +\n",
    "\n",
    "                          df[\"stakeholders\"].astype(str)).str.lower()\n",
    "\n",
    "    return df\n",
    " \n",
    "train_df = preprocess(train_df)\n",
    "\n",
    "full_df = preprocess(full_df)\n",
    " \n",
    "# Train TF-IDF\n",
    "\n",
    "vectorizer = TfidfVectorizer(max_features=5000, ngram_range=(1, 2)) # model\n",
    " \n",
    "vectorizer.fit(train_df[\"text_for_nlp\"]) # training\n",
    " \n",
    "# Transform full data\n",
    "\n",
    "tfidf_matrix = vectorizer.transform(full_df[\"text_for_nlp\"])\n",
    " \n",
    "# Save model + matrix\n",
    "\n",
    "joblib.dump(vectorizer, MODEL_PATH)\n",
    "\n",
    "joblib.dump({\"matrix\": tfidf_matrix, \"df\": full_df}, MATRIX_PATH)\n",
    " \n",
    "print(f\"✅ Model trained and saved to {MODEL_PATH} and {MATRIX_PATH}\")\n",
    "\n",
    "!pip install numpy pandas sk-learn joblib jupyter\n",
    " "
   ]
  },
  {
   "cell_type": "code",
   "execution_count": null,
   "id": "13527e6e-e0ea-4bf6-8b40-f7eabc9831e5",
   "metadata": {},
   "outputs": [],
   "source": []
  }
 ],
 "metadata": {
  "kernelspec": {
   "display_name": "Python 3 (ipykernel)",
   "language": "python",
   "name": "python3"
  },
  "language_info": {
   "codemirror_mode": {
    "name": "ipython",
    "version": 3
   },
   "file_extension": ".py",
   "mimetype": "text/x-python",
   "name": "python",
   "nbconvert_exporter": "python",
   "pygments_lexer": "ipython3",
   "version": "3.13.0"
  }
 },
 "nbformat": 4,
 "nbformat_minor": 5
}
